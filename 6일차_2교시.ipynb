{
  "nbformat": 4,
  "nbformat_minor": 0,
  "metadata": {
    "kernelspec": {
      "display_name": "Python 3",
      "language": "python",
      "name": "python3"
    },
    "language_info": {
      "codemirror_mode": {
        "name": "ipython",
        "version": 3
      },
      "file_extension": ".py",
      "mimetype": "text/x-python",
      "name": "python",
      "nbconvert_exporter": "python",
      "pygments_lexer": "ipython3",
      "version": "3.8.5-final"
    },
    "colab": {
      "name": "6일차 2교시.ipynb",
      "provenance": [],
      "collapsed_sections": []
    },
    "accelerator": "GPU",
    "widgets": {
      "application/vnd.jupyter.widget-state+json": {
        "fe9889716d7b498b889241784b002d16": {
          "model_module": "@jupyter-widgets/controls",
          "model_name": "HBoxModel",
          "state": {
            "_view_name": "HBoxView",
            "_dom_classes": [],
            "_model_name": "HBoxModel",
            "_view_module": "@jupyter-widgets/controls",
            "_model_module_version": "1.5.0",
            "_view_count": null,
            "_view_module_version": "1.5.0",
            "box_style": "",
            "layout": "IPY_MODEL_459c4c47851b4524ae6b4aa39f73dc49",
            "_model_module": "@jupyter-widgets/controls",
            "children": [
              "IPY_MODEL_89c6c0057ab1454c946dd3b0d81fea2d",
              "IPY_MODEL_137b5239add441febe778285f1300c83",
              "IPY_MODEL_964b0f41e5634941ab1504363ce71cca"
            ]
          }
        },
        "459c4c47851b4524ae6b4aa39f73dc49": {
          "model_module": "@jupyter-widgets/base",
          "model_name": "LayoutModel",
          "state": {
            "_view_name": "LayoutView",
            "grid_template_rows": null,
            "right": null,
            "justify_content": null,
            "_view_module": "@jupyter-widgets/base",
            "overflow": null,
            "_model_module_version": "1.2.0",
            "_view_count": null,
            "flex_flow": null,
            "width": null,
            "min_width": null,
            "border": null,
            "align_items": null,
            "bottom": null,
            "_model_module": "@jupyter-widgets/base",
            "top": null,
            "grid_column": null,
            "overflow_y": null,
            "overflow_x": null,
            "grid_auto_flow": null,
            "grid_area": null,
            "grid_template_columns": null,
            "flex": null,
            "_model_name": "LayoutModel",
            "justify_items": null,
            "grid_row": null,
            "max_height": null,
            "align_content": null,
            "visibility": null,
            "align_self": null,
            "height": null,
            "min_height": null,
            "padding": null,
            "grid_auto_rows": null,
            "grid_gap": null,
            "max_width": null,
            "order": null,
            "_view_module_version": "1.2.0",
            "grid_template_areas": null,
            "object_position": null,
            "object_fit": null,
            "grid_auto_columns": null,
            "margin": null,
            "display": null,
            "left": null
          }
        },
        "89c6c0057ab1454c946dd3b0d81fea2d": {
          "model_module": "@jupyter-widgets/controls",
          "model_name": "HTMLModel",
          "state": {
            "_view_name": "HTMLView",
            "style": "IPY_MODEL_6d25049e65b54b4aa3d0449be55b84ae",
            "_dom_classes": [],
            "description": "",
            "_model_name": "HTMLModel",
            "placeholder": "​",
            "_view_module": "@jupyter-widgets/controls",
            "_model_module_version": "1.5.0",
            "value": "100%",
            "_view_count": null,
            "_view_module_version": "1.5.0",
            "description_tooltip": null,
            "_model_module": "@jupyter-widgets/controls",
            "layout": "IPY_MODEL_a0b88e530211444f9f8f75830e31faf6"
          }
        },
        "137b5239add441febe778285f1300c83": {
          "model_module": "@jupyter-widgets/controls",
          "model_name": "FloatProgressModel",
          "state": {
            "_view_name": "ProgressView",
            "style": "IPY_MODEL_4ecf7d2d6c4c43ddbaf7a974878556ca",
            "_dom_classes": [],
            "description": "",
            "_model_name": "FloatProgressModel",
            "bar_style": "success",
            "max": 1000,
            "_view_module": "@jupyter-widgets/controls",
            "_model_module_version": "1.5.0",
            "value": 1000,
            "_view_count": null,
            "_view_module_version": "1.5.0",
            "orientation": "horizontal",
            "min": 0,
            "description_tooltip": null,
            "_model_module": "@jupyter-widgets/controls",
            "layout": "IPY_MODEL_6a048371e72a4312837a1987bea90d6e"
          }
        },
        "964b0f41e5634941ab1504363ce71cca": {
          "model_module": "@jupyter-widgets/controls",
          "model_name": "HTMLModel",
          "state": {
            "_view_name": "HTMLView",
            "style": "IPY_MODEL_2d0c32da1754494b92d52b6b0e67ebc6",
            "_dom_classes": [],
            "description": "",
            "_model_name": "HTMLModel",
            "placeholder": "​",
            "_view_module": "@jupyter-widgets/controls",
            "_model_module_version": "1.5.0",
            "value": " 1000/1000 [00:00&lt;00:00, 1956.03it/s]",
            "_view_count": null,
            "_view_module_version": "1.5.0",
            "description_tooltip": null,
            "_model_module": "@jupyter-widgets/controls",
            "layout": "IPY_MODEL_7fcecaf2a62748f2a4be3d6a483a9563"
          }
        },
        "6d25049e65b54b4aa3d0449be55b84ae": {
          "model_module": "@jupyter-widgets/controls",
          "model_name": "DescriptionStyleModel",
          "state": {
            "_view_name": "StyleView",
            "_model_name": "DescriptionStyleModel",
            "description_width": "",
            "_view_module": "@jupyter-widgets/base",
            "_model_module_version": "1.5.0",
            "_view_count": null,
            "_view_module_version": "1.2.0",
            "_model_module": "@jupyter-widgets/controls"
          }
        },
        "a0b88e530211444f9f8f75830e31faf6": {
          "model_module": "@jupyter-widgets/base",
          "model_name": "LayoutModel",
          "state": {
            "_view_name": "LayoutView",
            "grid_template_rows": null,
            "right": null,
            "justify_content": null,
            "_view_module": "@jupyter-widgets/base",
            "overflow": null,
            "_model_module_version": "1.2.0",
            "_view_count": null,
            "flex_flow": null,
            "width": null,
            "min_width": null,
            "border": null,
            "align_items": null,
            "bottom": null,
            "_model_module": "@jupyter-widgets/base",
            "top": null,
            "grid_column": null,
            "overflow_y": null,
            "overflow_x": null,
            "grid_auto_flow": null,
            "grid_area": null,
            "grid_template_columns": null,
            "flex": null,
            "_model_name": "LayoutModel",
            "justify_items": null,
            "grid_row": null,
            "max_height": null,
            "align_content": null,
            "visibility": null,
            "align_self": null,
            "height": null,
            "min_height": null,
            "padding": null,
            "grid_auto_rows": null,
            "grid_gap": null,
            "max_width": null,
            "order": null,
            "_view_module_version": "1.2.0",
            "grid_template_areas": null,
            "object_position": null,
            "object_fit": null,
            "grid_auto_columns": null,
            "margin": null,
            "display": null,
            "left": null
          }
        },
        "4ecf7d2d6c4c43ddbaf7a974878556ca": {
          "model_module": "@jupyter-widgets/controls",
          "model_name": "ProgressStyleModel",
          "state": {
            "_view_name": "StyleView",
            "_model_name": "ProgressStyleModel",
            "description_width": "",
            "_view_module": "@jupyter-widgets/base",
            "_model_module_version": "1.5.0",
            "_view_count": null,
            "_view_module_version": "1.2.0",
            "bar_color": null,
            "_model_module": "@jupyter-widgets/controls"
          }
        },
        "6a048371e72a4312837a1987bea90d6e": {
          "model_module": "@jupyter-widgets/base",
          "model_name": "LayoutModel",
          "state": {
            "_view_name": "LayoutView",
            "grid_template_rows": null,
            "right": null,
            "justify_content": null,
            "_view_module": "@jupyter-widgets/base",
            "overflow": null,
            "_model_module_version": "1.2.0",
            "_view_count": null,
            "flex_flow": null,
            "width": null,
            "min_width": null,
            "border": null,
            "align_items": null,
            "bottom": null,
            "_model_module": "@jupyter-widgets/base",
            "top": null,
            "grid_column": null,
            "overflow_y": null,
            "overflow_x": null,
            "grid_auto_flow": null,
            "grid_area": null,
            "grid_template_columns": null,
            "flex": null,
            "_model_name": "LayoutModel",
            "justify_items": null,
            "grid_row": null,
            "max_height": null,
            "align_content": null,
            "visibility": null,
            "align_self": null,
            "height": null,
            "min_height": null,
            "padding": null,
            "grid_auto_rows": null,
            "grid_gap": null,
            "max_width": null,
            "order": null,
            "_view_module_version": "1.2.0",
            "grid_template_areas": null,
            "object_position": null,
            "object_fit": null,
            "grid_auto_columns": null,
            "margin": null,
            "display": null,
            "left": null
          }
        },
        "2d0c32da1754494b92d52b6b0e67ebc6": {
          "model_module": "@jupyter-widgets/controls",
          "model_name": "DescriptionStyleModel",
          "state": {
            "_view_name": "StyleView",
            "_model_name": "DescriptionStyleModel",
            "description_width": "",
            "_view_module": "@jupyter-widgets/base",
            "_model_module_version": "1.5.0",
            "_view_count": null,
            "_view_module_version": "1.2.0",
            "_model_module": "@jupyter-widgets/controls"
          }
        },
        "7fcecaf2a62748f2a4be3d6a483a9563": {
          "model_module": "@jupyter-widgets/base",
          "model_name": "LayoutModel",
          "state": {
            "_view_name": "LayoutView",
            "grid_template_rows": null,
            "right": null,
            "justify_content": null,
            "_view_module": "@jupyter-widgets/base",
            "overflow": null,
            "_model_module_version": "1.2.0",
            "_view_count": null,
            "flex_flow": null,
            "width": null,
            "min_width": null,
            "border": null,
            "align_items": null,
            "bottom": null,
            "_model_module": "@jupyter-widgets/base",
            "top": null,
            "grid_column": null,
            "overflow_y": null,
            "overflow_x": null,
            "grid_auto_flow": null,
            "grid_area": null,
            "grid_template_columns": null,
            "flex": null,
            "_model_name": "LayoutModel",
            "justify_items": null,
            "grid_row": null,
            "max_height": null,
            "align_content": null,
            "visibility": null,
            "align_self": null,
            "height": null,
            "min_height": null,
            "padding": null,
            "grid_auto_rows": null,
            "grid_gap": null,
            "max_width": null,
            "order": null,
            "_view_module_version": "1.2.0",
            "grid_template_areas": null,
            "object_position": null,
            "object_fit": null,
            "grid_auto_columns": null,
            "margin": null,
            "display": null,
            "left": null
          }
        },
        "85963a47b7a74c52881553387bcff619": {
          "model_module": "@jupyter-widgets/controls",
          "model_name": "HBoxModel",
          "state": {
            "_view_name": "HBoxView",
            "_dom_classes": [],
            "_model_name": "HBoxModel",
            "_view_module": "@jupyter-widgets/controls",
            "_model_module_version": "1.5.0",
            "_view_count": null,
            "_view_module_version": "1.5.0",
            "box_style": "",
            "layout": "IPY_MODEL_c3936fc1c11a41c491e95c01d33f3ca0",
            "_model_module": "@jupyter-widgets/controls",
            "children": [
              "IPY_MODEL_6600d319130e4c53928c0c6ff8fd515f",
              "IPY_MODEL_3d4705edae3d4d728eec177aca16e0a1",
              "IPY_MODEL_c5871089a3294ebe925cf97d77fc755b"
            ]
          }
        },
        "c3936fc1c11a41c491e95c01d33f3ca0": {
          "model_module": "@jupyter-widgets/base",
          "model_name": "LayoutModel",
          "state": {
            "_view_name": "LayoutView",
            "grid_template_rows": null,
            "right": null,
            "justify_content": null,
            "_view_module": "@jupyter-widgets/base",
            "overflow": null,
            "_model_module_version": "1.2.0",
            "_view_count": null,
            "flex_flow": null,
            "width": null,
            "min_width": null,
            "border": null,
            "align_items": null,
            "bottom": null,
            "_model_module": "@jupyter-widgets/base",
            "top": null,
            "grid_column": null,
            "overflow_y": null,
            "overflow_x": null,
            "grid_auto_flow": null,
            "grid_area": null,
            "grid_template_columns": null,
            "flex": null,
            "_model_name": "LayoutModel",
            "justify_items": null,
            "grid_row": null,
            "max_height": null,
            "align_content": null,
            "visibility": null,
            "align_self": null,
            "height": null,
            "min_height": null,
            "padding": null,
            "grid_auto_rows": null,
            "grid_gap": null,
            "max_width": null,
            "order": null,
            "_view_module_version": "1.2.0",
            "grid_template_areas": null,
            "object_position": null,
            "object_fit": null,
            "grid_auto_columns": null,
            "margin": null,
            "display": null,
            "left": null
          }
        },
        "6600d319130e4c53928c0c6ff8fd515f": {
          "model_module": "@jupyter-widgets/controls",
          "model_name": "HTMLModel",
          "state": {
            "_view_name": "HTMLView",
            "style": "IPY_MODEL_114f9686f28c468a93b4a3a817eb015d",
            "_dom_classes": [],
            "description": "",
            "_model_name": "HTMLModel",
            "placeholder": "​",
            "_view_module": "@jupyter-widgets/controls",
            "_model_module_version": "1.5.0",
            "value": "100.00% ",
            "_view_count": null,
            "_view_module_version": "1.5.0",
            "description_tooltip": null,
            "_model_module": "@jupyter-widgets/controls",
            "layout": "IPY_MODEL_d8c638c232064565976cea2c5f99552f"
          }
        },
        "3d4705edae3d4d728eec177aca16e0a1": {
          "model_module": "@jupyter-widgets/controls",
          "model_name": "FloatProgressModel",
          "state": {
            "_view_name": "ProgressView",
            "style": "IPY_MODEL_bf3a02656d4a48d2810dbe628262383f",
            "_dom_classes": [],
            "description": "",
            "_model_name": "FloatProgressModel",
            "bar_style": "",
            "max": 1,
            "_view_module": "@jupyter-widgets/controls",
            "_model_module_version": "1.5.0",
            "value": 1,
            "_view_count": null,
            "_view_module_version": "1.5.0",
            "orientation": "horizontal",
            "min": 0,
            "description_tooltip": null,
            "_model_module": "@jupyter-widgets/controls",
            "layout": "IPY_MODEL_bf42c5fe6ed84879b28ac5a002990357"
          }
        },
        "c5871089a3294ebe925cf97d77fc755b": {
          "model_module": "@jupyter-widgets/controls",
          "model_name": "HTMLModel",
          "state": {
            "_view_name": "HTMLView",
            "style": "IPY_MODEL_f38071b4594746538b6efb5ade1c6e1a",
            "_dom_classes": [],
            "description": "",
            "_model_name": "HTMLModel",
            "placeholder": "​",
            "_view_module": "@jupyter-widgets/controls",
            "_model_module_version": "1.5.0",
            "value": " epoch: 1/1 | step: 9/9 | 00:07&gt;00:00",
            "_view_count": null,
            "_view_module_version": "1.5.0",
            "description_tooltip": null,
            "_model_module": "@jupyter-widgets/controls",
            "layout": "IPY_MODEL_bae1a15bcbc248c6933914a377439312"
          }
        },
        "114f9686f28c468a93b4a3a817eb015d": {
          "model_module": "@jupyter-widgets/controls",
          "model_name": "DescriptionStyleModel",
          "state": {
            "_view_name": "StyleView",
            "_model_name": "DescriptionStyleModel",
            "description_width": "",
            "_view_module": "@jupyter-widgets/base",
            "_model_module_version": "1.5.0",
            "_view_count": null,
            "_view_module_version": "1.2.0",
            "_model_module": "@jupyter-widgets/controls"
          }
        },
        "d8c638c232064565976cea2c5f99552f": {
          "model_module": "@jupyter-widgets/base",
          "model_name": "LayoutModel",
          "state": {
            "_view_name": "LayoutView",
            "grid_template_rows": null,
            "right": null,
            "justify_content": null,
            "_view_module": "@jupyter-widgets/base",
            "overflow": null,
            "_model_module_version": "1.2.0",
            "_view_count": null,
            "flex_flow": null,
            "width": null,
            "min_width": null,
            "border": null,
            "align_items": null,
            "bottom": null,
            "_model_module": "@jupyter-widgets/base",
            "top": null,
            "grid_column": null,
            "overflow_y": null,
            "overflow_x": null,
            "grid_auto_flow": null,
            "grid_area": null,
            "grid_template_columns": null,
            "flex": null,
            "_model_name": "LayoutModel",
            "justify_items": null,
            "grid_row": null,
            "max_height": null,
            "align_content": null,
            "visibility": null,
            "align_self": null,
            "height": null,
            "min_height": null,
            "padding": null,
            "grid_auto_rows": null,
            "grid_gap": null,
            "max_width": null,
            "order": null,
            "_view_module_version": "1.2.0",
            "grid_template_areas": null,
            "object_position": null,
            "object_fit": null,
            "grid_auto_columns": null,
            "margin": null,
            "display": null,
            "left": null
          }
        },
        "bf3a02656d4a48d2810dbe628262383f": {
          "model_module": "@jupyter-widgets/controls",
          "model_name": "ProgressStyleModel",
          "state": {
            "_view_name": "StyleView",
            "_model_name": "ProgressStyleModel",
            "description_width": "",
            "_view_module": "@jupyter-widgets/base",
            "_model_module_version": "1.5.0",
            "_view_count": null,
            "_view_module_version": "1.2.0",
            "bar_color": null,
            "_model_module": "@jupyter-widgets/controls"
          }
        },
        "bf42c5fe6ed84879b28ac5a002990357": {
          "model_module": "@jupyter-widgets/base",
          "model_name": "LayoutModel",
          "state": {
            "_view_name": "LayoutView",
            "grid_template_rows": null,
            "right": null,
            "justify_content": null,
            "_view_module": "@jupyter-widgets/base",
            "overflow": null,
            "_model_module_version": "1.2.0",
            "_view_count": null,
            "flex_flow": null,
            "width": null,
            "min_width": null,
            "border": null,
            "align_items": null,
            "bottom": null,
            "_model_module": "@jupyter-widgets/base",
            "top": null,
            "grid_column": null,
            "overflow_y": null,
            "overflow_x": null,
            "grid_auto_flow": null,
            "grid_area": null,
            "grid_template_columns": null,
            "flex": null,
            "_model_name": "LayoutModel",
            "justify_items": null,
            "grid_row": null,
            "max_height": null,
            "align_content": null,
            "visibility": null,
            "align_self": null,
            "height": null,
            "min_height": null,
            "padding": null,
            "grid_auto_rows": null,
            "grid_gap": null,
            "max_width": null,
            "order": null,
            "_view_module_version": "1.2.0",
            "grid_template_areas": null,
            "object_position": null,
            "object_fit": null,
            "grid_auto_columns": null,
            "margin": null,
            "display": null,
            "left": null
          }
        },
        "f38071b4594746538b6efb5ade1c6e1a": {
          "model_module": "@jupyter-widgets/controls",
          "model_name": "DescriptionStyleModel",
          "state": {
            "_view_name": "StyleView",
            "_model_name": "DescriptionStyleModel",
            "description_width": "",
            "_view_module": "@jupyter-widgets/base",
            "_model_module_version": "1.5.0",
            "_view_count": null,
            "_view_module_version": "1.2.0",
            "_model_module": "@jupyter-widgets/controls"
          }
        },
        "bae1a15bcbc248c6933914a377439312": {
          "model_module": "@jupyter-widgets/base",
          "model_name": "LayoutModel",
          "state": {
            "_view_name": "LayoutView",
            "grid_template_rows": null,
            "right": null,
            "justify_content": null,
            "_view_module": "@jupyter-widgets/base",
            "overflow": null,
            "_model_module_version": "1.2.0",
            "_view_count": null,
            "flex_flow": null,
            "width": null,
            "min_width": null,
            "border": null,
            "align_items": null,
            "bottom": null,
            "_model_module": "@jupyter-widgets/base",
            "top": null,
            "grid_column": null,
            "overflow_y": null,
            "overflow_x": null,
            "grid_auto_flow": null,
            "grid_area": null,
            "grid_template_columns": null,
            "flex": null,
            "_model_name": "LayoutModel",
            "justify_items": null,
            "grid_row": null,
            "max_height": null,
            "align_content": null,
            "visibility": null,
            "align_self": null,
            "height": null,
            "min_height": null,
            "padding": null,
            "grid_auto_rows": null,
            "grid_gap": null,
            "max_width": null,
            "order": null,
            "_view_module_version": "1.2.0",
            "grid_template_areas": null,
            "object_position": null,
            "object_fit": null,
            "grid_auto_columns": null,
            "margin": null,
            "display": null,
            "left": null
          }
        },
        "ab614be9642a4959a743f5a85194f24d": {
          "model_module": "@jupyter-widgets/controls",
          "model_name": "HBoxModel",
          "state": {
            "_view_name": "HBoxView",
            "_dom_classes": [],
            "_model_name": "HBoxModel",
            "_view_module": "@jupyter-widgets/controls",
            "_model_module_version": "1.5.0",
            "_view_count": null,
            "_view_module_version": "1.5.0",
            "box_style": "",
            "layout": "IPY_MODEL_f49e747cb22a4913806ef77ebbacabb1",
            "_model_module": "@jupyter-widgets/controls",
            "children": [
              "IPY_MODEL_15734f584e97462e8cb1e3d9002ed208",
              "IPY_MODEL_5079dd0dfe74425894e1193c21d5a9fb",
              "IPY_MODEL_643a143317c546a8a7ef5731dde8bda6"
            ]
          }
        },
        "f49e747cb22a4913806ef77ebbacabb1": {
          "model_module": "@jupyter-widgets/base",
          "model_name": "LayoutModel",
          "state": {
            "_view_name": "LayoutView",
            "grid_template_rows": null,
            "right": null,
            "justify_content": null,
            "_view_module": "@jupyter-widgets/base",
            "overflow": null,
            "_model_module_version": "1.2.0",
            "_view_count": null,
            "flex_flow": null,
            "width": null,
            "min_width": null,
            "border": null,
            "align_items": null,
            "bottom": null,
            "_model_module": "@jupyter-widgets/base",
            "top": null,
            "grid_column": null,
            "overflow_y": null,
            "overflow_x": null,
            "grid_auto_flow": null,
            "grid_area": null,
            "grid_template_columns": null,
            "flex": null,
            "_model_name": "LayoutModel",
            "justify_items": null,
            "grid_row": null,
            "max_height": null,
            "align_content": null,
            "visibility": null,
            "align_self": null,
            "height": null,
            "min_height": null,
            "padding": null,
            "grid_auto_rows": null,
            "grid_gap": null,
            "max_width": null,
            "order": null,
            "_view_module_version": "1.2.0",
            "grid_template_areas": null,
            "object_position": null,
            "object_fit": null,
            "grid_auto_columns": null,
            "margin": null,
            "display": null,
            "left": null
          }
        },
        "15734f584e97462e8cb1e3d9002ed208": {
          "model_module": "@jupyter-widgets/controls",
          "model_name": "HTMLModel",
          "state": {
            "_view_name": "HTMLView",
            "style": "IPY_MODEL_ac032b73b48e4d55b18da8e6db305c7f",
            "_dom_classes": [],
            "description": "",
            "_model_name": "HTMLModel",
            "placeholder": "​",
            "_view_module": "@jupyter-widgets/controls",
            "_model_module_version": "1.5.0",
            "value": "100%",
            "_view_count": null,
            "_view_module_version": "1.5.0",
            "description_tooltip": null,
            "_model_module": "@jupyter-widgets/controls",
            "layout": "IPY_MODEL_80326b6cc507423b9930a95120d8f026"
          }
        },
        "5079dd0dfe74425894e1193c21d5a9fb": {
          "model_module": "@jupyter-widgets/controls",
          "model_name": "FloatProgressModel",
          "state": {
            "_view_name": "ProgressView",
            "style": "IPY_MODEL_da93c592ec8540068b721cecd203783a",
            "_dom_classes": [],
            "description": "",
            "_model_name": "FloatProgressModel",
            "bar_style": "success",
            "max": 1,
            "_view_module": "@jupyter-widgets/controls",
            "_model_module_version": "1.5.0",
            "value": 1,
            "_view_count": null,
            "_view_module_version": "1.5.0",
            "orientation": "horizontal",
            "min": 0,
            "description_tooltip": null,
            "_model_module": "@jupyter-widgets/controls",
            "layout": "IPY_MODEL_ad6d7bea4a8f4f869d2c8f0bea856ec8"
          }
        },
        "643a143317c546a8a7ef5731dde8bda6": {
          "model_module": "@jupyter-widgets/controls",
          "model_name": "HTMLModel",
          "state": {
            "_view_name": "HTMLView",
            "style": "IPY_MODEL_1cc2d4299a49429b81b2ec419606d712",
            "_dom_classes": [],
            "description": "",
            "_model_name": "HTMLModel",
            "placeholder": "​",
            "_view_module": "@jupyter-widgets/controls",
            "_model_module_version": "1.5.0",
            "value": " 1/1 [00:00&lt;00:00, 44.34it/s]",
            "_view_count": null,
            "_view_module_version": "1.5.0",
            "description_tooltip": null,
            "_model_module": "@jupyter-widgets/controls",
            "layout": "IPY_MODEL_dda2cae8b83c49408ec359299b1e713a"
          }
        },
        "ac032b73b48e4d55b18da8e6db305c7f": {
          "model_module": "@jupyter-widgets/controls",
          "model_name": "DescriptionStyleModel",
          "state": {
            "_view_name": "StyleView",
            "_model_name": "DescriptionStyleModel",
            "description_width": "",
            "_view_module": "@jupyter-widgets/base",
            "_model_module_version": "1.5.0",
            "_view_count": null,
            "_view_module_version": "1.2.0",
            "_model_module": "@jupyter-widgets/controls"
          }
        },
        "80326b6cc507423b9930a95120d8f026": {
          "model_module": "@jupyter-widgets/base",
          "model_name": "LayoutModel",
          "state": {
            "_view_name": "LayoutView",
            "grid_template_rows": null,
            "right": null,
            "justify_content": null,
            "_view_module": "@jupyter-widgets/base",
            "overflow": null,
            "_model_module_version": "1.2.0",
            "_view_count": null,
            "flex_flow": null,
            "width": null,
            "min_width": null,
            "border": null,
            "align_items": null,
            "bottom": null,
            "_model_module": "@jupyter-widgets/base",
            "top": null,
            "grid_column": null,
            "overflow_y": null,
            "overflow_x": null,
            "grid_auto_flow": null,
            "grid_area": null,
            "grid_template_columns": null,
            "flex": null,
            "_model_name": "LayoutModel",
            "justify_items": null,
            "grid_row": null,
            "max_height": null,
            "align_content": null,
            "visibility": null,
            "align_self": null,
            "height": null,
            "min_height": null,
            "padding": null,
            "grid_auto_rows": null,
            "grid_gap": null,
            "max_width": null,
            "order": null,
            "_view_module_version": "1.2.0",
            "grid_template_areas": null,
            "object_position": null,
            "object_fit": null,
            "grid_auto_columns": null,
            "margin": null,
            "display": null,
            "left": null
          }
        },
        "da93c592ec8540068b721cecd203783a": {
          "model_module": "@jupyter-widgets/controls",
          "model_name": "ProgressStyleModel",
          "state": {
            "_view_name": "StyleView",
            "_model_name": "ProgressStyleModel",
            "description_width": "",
            "_view_module": "@jupyter-widgets/base",
            "_model_module_version": "1.5.0",
            "_view_count": null,
            "_view_module_version": "1.2.0",
            "bar_color": null,
            "_model_module": "@jupyter-widgets/controls"
          }
        },
        "ad6d7bea4a8f4f869d2c8f0bea856ec8": {
          "model_module": "@jupyter-widgets/base",
          "model_name": "LayoutModel",
          "state": {
            "_view_name": "LayoutView",
            "grid_template_rows": null,
            "right": null,
            "justify_content": null,
            "_view_module": "@jupyter-widgets/base",
            "overflow": null,
            "_model_module_version": "1.2.0",
            "_view_count": null,
            "flex_flow": null,
            "width": null,
            "min_width": null,
            "border": null,
            "align_items": null,
            "bottom": null,
            "_model_module": "@jupyter-widgets/base",
            "top": null,
            "grid_column": null,
            "overflow_y": null,
            "overflow_x": null,
            "grid_auto_flow": null,
            "grid_area": null,
            "grid_template_columns": null,
            "flex": null,
            "_model_name": "LayoutModel",
            "justify_items": null,
            "grid_row": null,
            "max_height": null,
            "align_content": null,
            "visibility": null,
            "align_self": null,
            "height": null,
            "min_height": null,
            "padding": null,
            "grid_auto_rows": null,
            "grid_gap": null,
            "max_width": null,
            "order": null,
            "_view_module_version": "1.2.0",
            "grid_template_areas": null,
            "object_position": null,
            "object_fit": null,
            "grid_auto_columns": null,
            "margin": null,
            "display": null,
            "left": null
          }
        },
        "1cc2d4299a49429b81b2ec419606d712": {
          "model_module": "@jupyter-widgets/controls",
          "model_name": "DescriptionStyleModel",
          "state": {
            "_view_name": "StyleView",
            "_model_name": "DescriptionStyleModel",
            "description_width": "",
            "_view_module": "@jupyter-widgets/base",
            "_model_module_version": "1.5.0",
            "_view_count": null,
            "_view_module_version": "1.2.0",
            "_model_module": "@jupyter-widgets/controls"
          }
        },
        "dda2cae8b83c49408ec359299b1e713a": {
          "model_module": "@jupyter-widgets/base",
          "model_name": "LayoutModel",
          "state": {
            "_view_name": "LayoutView",
            "grid_template_rows": null,
            "right": null,
            "justify_content": null,
            "_view_module": "@jupyter-widgets/base",
            "overflow": null,
            "_model_module_version": "1.2.0",
            "_view_count": null,
            "flex_flow": null,
            "width": null,
            "min_width": null,
            "border": null,
            "align_items": null,
            "bottom": null,
            "_model_module": "@jupyter-widgets/base",
            "top": null,
            "grid_column": null,
            "overflow_y": null,
            "overflow_x": null,
            "grid_auto_flow": null,
            "grid_area": null,
            "grid_template_columns": null,
            "flex": null,
            "_model_name": "LayoutModel",
            "justify_items": null,
            "grid_row": null,
            "max_height": null,
            "align_content": null,
            "visibility": null,
            "align_self": null,
            "height": null,
            "min_height": null,
            "padding": null,
            "grid_auto_rows": null,
            "grid_gap": null,
            "max_width": null,
            "order": null,
            "_view_module_version": "1.2.0",
            "grid_template_areas": null,
            "object_position": null,
            "object_fit": null,
            "grid_auto_columns": null,
            "margin": null,
            "display": null,
            "left": null
          }
        }
      }
    }
  },
  "cells": [
    {
      "cell_type": "markdown",
      "metadata": {
        "id": "tubVWX4nhLqy"
      },
      "source": [
        "# BERT FineTuning"
      ]
    },
    {
      "cell_type": "code",
      "metadata": {
        "id": "WwnFQSOM8psW"
      },
      "source": [
        "!rm -rf /content/WinterSchool_BERT"
      ],
      "execution_count": 1,
      "outputs": []
    },
    {
      "cell_type": "code",
      "metadata": {
        "colab": {
          "base_uri": "https://localhost:8080/"
        },
        "id": "fn78O_r0hiwn",
        "outputId": "7c488356-84a6-4979-959a-2a42b27f5115"
      },
      "source": [
        "# 오늘 실습을 위한 모델과 코드들 불러오기\n",
        "! git clone https://github.com/Seongtae-Kim/WinterSchool_BERT.git\n",
        "! pip install -q transformers\n",
        "! pip install Korpora"
      ],
      "execution_count": 2,
      "outputs": [
        {
          "output_type": "stream",
          "text": [
            "Cloning into 'WinterSchool_BERT'...\n",
            "remote: Enumerating objects: 65, done.\u001b[K\n",
            "remote: Counting objects: 100% (65/65), done.\u001b[K\n",
            "remote: Compressing objects: 100% (65/65), done.\u001b[K\n",
            "remote: Total 65 (delta 38), reused 2 (delta 0), pack-reused 0\u001b[K\n",
            "Unpacking objects: 100% (65/65), done.\n",
            "Requirement already satisfied: Korpora in /usr/local/lib/python3.6/dist-packages (0.2.0)\n",
            "Requirement already satisfied: dataclasses>=0.6 in /usr/local/lib/python3.6/dist-packages (from Korpora) (0.8)\n",
            "Requirement already satisfied: xlrd>=1.2.0 in /usr/local/lib/python3.6/dist-packages (from Korpora) (2.0.1)\n",
            "Requirement already satisfied: numpy>=1.18.0 in /usr/local/lib/python3.6/dist-packages (from Korpora) (1.19.5)\n",
            "Requirement already satisfied: requests>=2.20.0 in /usr/local/lib/python3.6/dist-packages (from Korpora) (2.23.0)\n",
            "Requirement already satisfied: tqdm>=4.46.0 in /usr/local/lib/python3.6/dist-packages (from Korpora) (4.56.0)\n",
            "Requirement already satisfied: urllib3!=1.25.0,!=1.25.1,<1.26,>=1.21.1 in /usr/local/lib/python3.6/dist-packages (from requests>=2.20.0->Korpora) (1.24.3)\n",
            "Requirement already satisfied: idna<3,>=2.5 in /usr/local/lib/python3.6/dist-packages (from requests>=2.20.0->Korpora) (2.10)\n",
            "Requirement already satisfied: chardet<4,>=3.0.2 in /usr/local/lib/python3.6/dist-packages (from requests>=2.20.0->Korpora) (3.0.4)\n",
            "Requirement already satisfied: certifi>=2017.4.17 in /usr/local/lib/python3.6/dist-packages (from requests>=2.20.0->Korpora) (2020.12.5)\n"
          ],
          "name": "stdout"
        }
      ]
    },
    {
      "cell_type": "code",
      "metadata": {
        "colab": {
          "base_uri": "https://localhost:8080/"
        },
        "id": "LP-QTTz2hLq0",
        "outputId": "c7f5bd2c-1fc9-449a-da80-4046f8b36d75"
      },
      "source": [
        "import sys\n",
        "sys.path.append('/content/WinterSchool_BERT')\n",
        "\n",
        "from winterschool_trainer import WinterSchool_FineTuning\n",
        "t = WinterSchool_FineTuning(\"/content/WinterSchool_BERT/vocab_snu_subchar12367.txt\")"
      ],
      "execution_count": 3,
      "outputs": [
        {
          "output_type": "stream",
          "text": [
            "GPU를 사용합니다. Tesla P100-PCIE-16GB\n"
          ],
          "name": "stdout"
        },
        {
          "output_type": "stream",
          "text": [
            "Calling BertTokenizer.from_pretrained() with the path to a single file or url is deprecated\n"
          ],
          "name": "stderr"
        }
      ]
    },
    {
      "cell_type": "code",
      "metadata": {
        "colab": {
          "base_uri": "https://localhost:8080/"
        },
        "id": "FBOl7ViRhLq1",
        "outputId": "e5d87454-118b-431f-dd06-78fab7ae2786"
      },
      "source": [
        "t.get_corpus_specifications()"
      ],
      "execution_count": 4,
      "outputs": [
        {
          "output_type": "stream",
          "text": [
            "kcbert                                    beomi@github 님이 만드신 KcBERT 학습데이터\n",
            "korean_chatbot_data                       songys@github 님이 만드신 챗봇 문답 데이터\n",
            "korean_hate_speech                        {inmoonlight,warnikchow,beomi}@github 님이 만드신 혐오댓글데이터\n",
            "korean_parallel_koen_news                 jungyeul@github 님이 만드신 병렬 말뭉치\n",
            "korean_petitions                          lovit@github 님이 만드신 2017.08 ~ 2019.03 청와대 청원데이터\n",
            "kornli                                    KakaoBrain 에서 제공하는 Natural Language Inference (NLI) 데이터\n",
            "korsts                                    KakaoBrain 에서 제공하는 Semantic Textual Similarity (STS) 데이터\n",
            "kowikitext                                lovit@github 님이 만드신 wikitext 형식의 한국어 위키피디아 데이터\n",
            "namuwikitext                              lovit@github 님이 만드신 wikitext 형식의 나무위키 데이터\n",
            "naver_changwon_ner                        네이버 + 창원대 NER shared task data\n",
            "nsmc                                      e9t@github 님이 만드신 Naver sentiment movie corpus v1.0\n",
            "question_pair                             songys@github 님이 만드신 질문쌍(Paired Question v.2)\n",
            "modu_news                                 국립국어원에서 만든 모두의 말뭉치: 뉴스 말뭉치\n",
            "modu_messenger                            국립국어원에서 만든 모두의 말뭉치: 메신저 말뭉치\n",
            "modu_mp                                   국립국어원에서 만든 모두의 말뭉치: 형태 분석 말뭉치\n",
            "modu_ne                                   국립국어원에서 만든 모두의 말뭉치: 개체명 분석 말뭉치\n",
            "modu_spoken                               국립국어원에서 만든 모두의 말뭉치: 구어 말뭉치\n",
            "modu_web                                  국립국어원에서 만든 모두의 말뭉치: 웹 말뭉치\n",
            "modu_written                              국립국어원에서 만든 모두의 말뭉치: 문어 말뭉치\n",
            "open_subtitles                            Open parallel corpus (OPUS) 에서 제공하는 영화 자막 번역 병렬 말뭉치\n",
            "aihub_translation                         AI Hub 에서 제공하는 번역용 병렬 말뭉치 (구어 + 대화 + 뉴스 + 한국문화 + 조례 + 지자체웹사이트)\n",
            "aihub_spoken_translation                  AI Hub 에서 제공하는 번역용 병렬 말뭉치 (구어)\n",
            "aihub_conversation_translation            AI Hub 에서 제공하는 번역용 병렬 말뭉치 (대화)\n",
            "aihub_news_translation                    AI Hub 에서 제공하는 번역용 병렬 말뭉치 (뉴스)\n",
            "aihub_korean_culture_translation          AI Hub 에서 제공하는 번역용 병렬 말뭉치 (한국문화)\n",
            "aihub_decree_translation                  AI Hub 에서 제공하는 번역용 병렬 말뭉치 (조례)\n",
            "aihub_government_website_translation      AI Hub 에서 제공하는 번역용 병렬 말뭉치 (지자체웹사이트)\n"
          ],
          "name": "stdout"
        }
      ]
    },
    {
      "cell_type": "code",
      "metadata": {
        "colab": {
          "base_uri": "https://localhost:8080/"
        },
        "id": "DNzXBBTUnt80",
        "outputId": "714d7c86-092a-42ce-9c76-8af7e5937251"
      },
      "source": [
        "chatbot = t.build_corpus(\"korean_chatbot_data\")"
      ],
      "execution_count": 5,
      "outputs": [
        {
          "output_type": "stream",
          "text": [
            "\n",
            "    Korpora 는 다른 분들이 연구 목적으로 공유해주신 말뭉치들을\n",
            "    손쉽게 다운로드, 사용할 수 있는 기능만을 제공합니다.\n",
            "\n",
            "    말뭉치들을 공유해 주신 분들에게 감사드리며, 각 말뭉치 별 설명과 라이센스를 공유 드립니다.\n",
            "    해당 말뭉치에 대해 자세히 알고 싶으신 분은 아래의 description 을 참고,\n",
            "    해당 말뭉치를 연구/상용의 목적으로 이용하실 때에는 아래의 라이센스를 참고해 주시기 바랍니다.\n",
            "\n",
            "    # Description\n",
            "    Author : songys@github\n",
            "    Repository : https://github.com/songys/Chatbot_data\n",
            "    References :\n",
            "\n",
            "    Chatbot_data_for_Korean v1.0\n",
            "      1. 챗봇 트레이닝용 문답 페어 11,876개\n",
            "      2. 일상다반사 0, 이별(부정) 1, 사랑(긍정) 2로 레이블링\n",
            "    자세한 내용은 위의 repository를 참고하세요.\n",
            "\n",
            "    # License\n",
            "    CC0 1.0 Universal (CC0 1.0) Public Domain Dedication\n",
            "    Details in https://creativecommons.org/publicdomain/zero/1.0/\n",
            "\n",
            "[Korpora] Corpus `korean_chatbot_data` is already installed at /root/Korpora/korean_chatbot_data/ChatbotData.csv\n"
          ],
          "name": "stdout"
        }
      ]
    },
    {
      "cell_type": "code",
      "metadata": {
        "colab": {
          "base_uri": "https://localhost:8080/"
        },
        "id": "wu-6c8npoHKT",
        "outputId": "e908b8e2-6a97-47f7-b333-13da54cdfef7"
      },
      "source": [
        "for i, (p, l) in enumerate(zip(chatbot.get_all_texts(), chatbot.get_all_labels())):\r\n",
        "  if i >= 400 and i <= 500:\r\n",
        "    print(p, l)"
      ],
      "execution_count": 6,
      "outputs": [
        {
          "output_type": "stream",
          "text": [
            "긴장 푸는 법 알려줘 0\n",
            "긴장돼 0\n",
            "긴장돼서 땀나네 0\n",
            "길거리에서 연락처 물어보면 줘도 되나 0\n",
            "길에서 담배 피우는 사람 싫어 0\n",
            "길에서 번호 따였어 0\n",
            "길에서 전번 물어보면 줘도 되나 0\n",
            "길에서 헌팅 당했어 0\n",
            "길은 멀고 해는 진다 0\n",
            "길이 미끄러워서 미끄러질뻔했어 0\n",
            "길이 안보여 0\n",
            "길이 얼어서 미끄러질뻔했어 0\n",
            "길이 얼었어 0\n",
            "김떡순 먹고 싶어. 0\n",
            "김치도 없네 0\n",
            "김치볶음밥 먹어야지 0\n",
            "김치볶음밥이나 만들어 먹어야지 0\n",
            "김치찌개 먹고 싶어 0\n",
            "까아 오빠들 컴백한다 0\n",
            "깜깜한데 전기 안들어오네 0\n",
            "깡 마른 거 같아 0\n",
            "꼴 사나워질 것 같은데 0\n",
            "꽃 받고 싶다 0\n",
            "꽃 사고 싶어 0\n",
            "꽃 살까? 0\n",
            "꽃 선물 좋아할까 0\n",
            "꽃 선물해 볼까 0\n",
            "꽃 예쁘게 말렸어 0\n",
            "꽃게탕 맛있다. 0\n",
            "꽃게탕 진짜 밥도둑 0\n",
            "꽃꽂이 배우는 중 0\n",
            "꽃꽂이 배우니까 좋다 0\n",
            "꽃놀이 가고 싶어 0\n",
            "꽃다발 말려봐야지 0\n",
            "꽃다발 말리면 에쁘겠지. 0\n",
            "꽃다발 받았어 0\n",
            "꽃다발 샀어 0\n",
            "꽃다발 선물 괜찮지? 0\n",
            "꽃다발 선물 받았어 0\n",
            "꽃다발 선물 어때? 0\n",
            "꽃다발 준비했어 0\n",
            "꽃바구니 선물이랑 과일 바구니 선물 뭐가 좋아? 0\n",
            "꽃바구니가 좋을까 과일바구니까 좋을까 0\n",
            "꽃선물 받고 어 0\n",
            "꿀잼 0\n",
            "꿈은 많은데 0\n",
            "꿈이 너무 많아 0\n",
            "꿈이 너무 무서웠어 0\n",
            "꿈이 다양해 0\n",
            "꿈이 두 개야 0\n",
            "꿈이 없어 0\n",
            "꿈이 이루어질까? 0\n",
            "꿈이 자꾸 바뀌어 0\n",
            "꿈이 현실이었으면 0\n",
            "끝나니까 허무하다 0\n",
            "끝나면 좋을 줄 알았는데. 0\n",
            "낌새가 이상하더니 딱 걸렸어 0\n",
            "낌새가 있더니 딱 걸렸어 0\n",
            "나 감정쓰레기통이었나봐 0\n",
            "나 갖고 장난친건가 0\n",
            "나 같은 사람은 동물 키우면 안되겠지 0\n",
            "나 같이 예쁜 애를 왜 갈구지 0\n",
            "나 거짓말 못하겠어 0\n",
            "나 결정 잘 한거지? 0\n",
            "나 결정했어 0\n",
            "나 괜찮지 않니 0\n",
            "나 교직이수할 수 있을까? 0\n",
            "나 그동안 뭐한거니 0\n",
            "나 그지임 0\n",
            "나 내일 기숙사 가야돼 0\n",
            "나 내장비만이래 0\n",
            "나 너무 못 생겼어 0\n",
            "나 너무 소심해 0\n",
            "나 노트북 사줘 0\n",
            "나 놀려먹기 쉬운가? 0\n",
            "나 누구게? 0\n",
            "나 누락됐나봐 0\n",
            "나 다른 거 할까 0\n",
            "나 대충한 거 아닌데 0\n",
            "나 뒷담화하는 애 어떻게 할까? 0\n",
            "나 뒷담화하는 애 있다는데 어떻게 하지? 0\n",
            "나 많이 기대했는데 0\n",
            "나 말 실수한 거 같아. 0\n",
            "나 맨날 속는 거 같아 0\n",
            "나 머리 나쁜 듯 0\n",
            "나 머리가 나뿐 것 같아 0\n",
            "나 먼저 잘게 0\n",
            "나 모르는게 왜 이렇게 많지 0\n",
            "나 몰래 사귀는 거 같애 0\n",
            "나 무시 당한 거 같아 0\n",
            "나 무시하는 거 같아 0\n",
            "나 무시하는 사람 어떻게 해? 0\n",
            "나 무시하는 사람 짜증나 0\n",
            "나 문제가 많은거 같아 0\n",
            "나 뭐하는 거지 0\n",
            "나 미팅한다! 0\n",
            "나 바뀌고 싶어 0\n",
            "나 바본인가 봄 0\n",
            "나 백수야 0\n",
            "나 버림 받은 거 같아 0\n",
            "나 보이스피싱 당한 거 같은데 어떡해? 0\n"
          ],
          "name": "stdout"
        }
      ]
    },
    {
      "cell_type": "markdown",
      "metadata": {
        "id": "5YxJy6CchLq2"
      },
      "source": [
        "## Wordpiece Tokenization"
      ]
    },
    {
      "cell_type": "code",
      "metadata": {
        "colab": {
          "base_uri": "https://localhost:8080/"
        },
        "id": "OPnzpDMchLq2",
        "outputId": "f5de19f0-1246-412f-d5b8-77a7dbd78868"
      },
      "source": [
        "tokenized = t.tokenizer.tokenize(\"전세계에서 코로나19보다 훨씬 전파력이 강한 변이 바이러스 확산이 끊이지 않는 가운데 마스크를 두장씩 겹쳐 쓰라는 전문가들의 권고가 나온다고 CNN방송 등이 28일(현지시간) 보도했다.\")\n",
        "print(tokenized)"
      ],
      "execution_count": 7,
      "outputs": [
        {
          "output_type": "stream",
          "text": [
            "['전세계', '##에서', '코', '##로', '##나', '##19', '##보다', '훨씬', '전파', '##력이', '강한', '변', '##이', '바이러스', '확산', '##이', '끊', '##이', '##지', '않는', '가운데', '마스크', '##를', '두', '##장', '##씩', 'ᄀ', '##ᅧ', '##ᆸ', '##쳐', '쓰', '##라는', '전문가들', '##의', '권고', '##가', '나온다', '##고', 'c', '##n', '##n', '##방송', '등이', '28', '##일', '(', '현지시간', ')', '보도했다', '.']\n"
          ],
          "name": "stdout"
        }
      ]
    },
    {
      "cell_type": "code",
      "metadata": {
        "colab": {
          "base_uri": "https://localhost:8080/"
        },
        "id": "FhkVZZdmhLq2",
        "outputId": "d47389e7-b241-4993-c6a6-5f79ad421d00"
      },
      "source": [
        "t.encode([tokenized], _tqdm=False)\n",
        "print(t.input_ids)\n",
        "print(t.attention_masks)"
      ],
      "execution_count": 8,
      "outputs": [
        {
          "output_type": "stream",
          "text": [
            "tensor([[    2,  5824,    23,   590,    19,    70,  2119,   249,  3887,  4776,\n",
            "          2341,  2322,   816,    12,  6714,  4426,    12,  4161,    12,    34,\n",
            "           980,   551,  8078,    14,   138,   109,  1273, 10132,  9039,   246,\n",
            "           982,  1114,   630,  2627,     7,  6363,    18,  1546,    29,  2423,\n",
            "           995,   995,  2163,   604,   625,    22,    16,  3844,    15,  1511,\n",
            "             5,     3]])\n",
            "tensor([[1, 1, 1, 1, 1, 1, 1, 1, 1, 1, 1, 1, 1, 1, 1, 1, 1, 1, 1, 1, 1, 1, 1, 1,\n",
            "         1, 1, 1, 1, 1, 1, 1, 1, 1, 1, 1, 1, 1, 1, 1, 1, 1, 1, 1, 1, 1, 1, 1, 1,\n",
            "         1, 1, 1, 1]])\n"
          ],
          "name": "stdout"
        },
        {
          "output_type": "stream",
          "text": [
            "/usr/local/lib/python3.6/dist-packages/transformers/tokenization_utils_base.py:2143: FutureWarning: The `pad_to_max_length` argument is deprecated and will be removed in a future version, use `padding=True` or `padding='longest'` to pad to the longest sequence in the batch, or use `padding='max_length'` to pad to a max length. In this case, you can give a specific length with `max_length` (e.g. `max_length=45`) or leave max_length to None to pad to the maximal input size of the model (e.g. 512 for Bert).\n",
            "  FutureWarning,\n"
          ],
          "name": "stderr"
        }
      ]
    },
    {
      "cell_type": "code",
      "metadata": {
        "colab": {
          "base_uri": "https://localhost:8080/"
        },
        "id": "igZHNzIppTmw",
        "outputId": "ff72c6c3-203f-475a-a555-fbd5efc60736"
      },
      "source": [
        "# Decode\r\n",
        "for id in t.input_ids.tolist()[0]:\r\n",
        "  for w, i in t.tokenizer.vocab.items():\r\n",
        "    if i == id:\r\n",
        "      print(w, end=\" \")"
      ],
      "execution_count": 9,
      "outputs": [
        {
          "output_type": "stream",
          "text": [
            "[CLS] 전세계 ##에서 코 ##로 ##나 ##19 ##보다 훨씬 전파 ##력이 강한 변 ##이 바이러스 확산 ##이 끊 ##이 ##지 않는 가운데 마스크 ##를 두 ##장 ##씩 ᄀ ##ᅧ ##ᆸ ##쳐 쓰 ##라는 전문가들 ##의 권고 ##가 나온다 ##고 c ##n ##n ##방송 등이 28 ##일 ( 현지시간 ) 보도했다 . [SEP] "
          ],
          "name": "stdout"
        }
      ]
    },
    {
      "cell_type": "markdown",
      "metadata": {
        "id": "9vMcePbEhLq3"
      },
      "source": [
        "## BERT: FineTuning -> Sentiment Analysis"
      ]
    },
    {
      "cell_type": "code",
      "metadata": {
        "colab": {
          "base_uri": "https://localhost:8080/"
        },
        "id": "THV3Yv7shLq3",
        "outputId": "4b6a43da-fb6e-4345-97b0-faac2fa6d8c0"
      },
      "source": [
        "from winterschool_trainer import Sentiment_Analysis\n",
        "sent_analyzer = Sentiment_Analysis(\"/content/WinterSchool_BERT/vocab_snu_subchar12367.txt\", train_ratio=0.9, batch_size=100, epoch=1)"
      ],
      "execution_count": 10,
      "outputs": [
        {
          "output_type": "stream",
          "text": [
            "Calling BertTokenizer.from_pretrained() with the path to a single file or url is deprecated\n"
          ],
          "name": "stderr"
        },
        {
          "output_type": "stream",
          "text": [
            "GPU를 사용합니다. Tesla P100-PCIE-16GB\n"
          ],
          "name": "stdout"
        },
        {
          "output_type": "stream",
          "text": [
            "Some weights of the model checkpoint at snunlp/KR-Medium were not used when initializing BertForSequenceClassification: ['cls.predictions.bias', 'cls.predictions.transform.dense.weight', 'cls.predictions.transform.dense.bias', 'cls.predictions.transform.LayerNorm.weight', 'cls.predictions.transform.LayerNorm.bias', 'cls.predictions.decoder.weight', 'cls.predictions.decoder.bias', 'cls.seq_relationship.weight', 'cls.seq_relationship.bias']\n",
            "- This IS expected if you are initializing BertForSequenceClassification from the checkpoint of a model trained on another task or with another architecture (e.g. initializing a BertForSequenceClassification model from a BertForPreTraining model).\n",
            "- This IS NOT expected if you are initializing BertForSequenceClassification from the checkpoint of a model that you expect to be exactly identical (initializing a BertForSequenceClassification model from a BertForSequenceClassification model).\n",
            "Some weights of BertForSequenceClassification were not initialized from the model checkpoint at snunlp/KR-Medium and are newly initialized: ['classifier.weight', 'classifier.bias']\n",
            "You should probably TRAIN this model on a down-stream task to be able to use it for predictions and inference.\n"
          ],
          "name": "stderr"
        },
        {
          "output_type": "stream",
          "text": [
            "BERT 준비 완료\n"
          ],
          "name": "stdout"
        }
      ]
    },
    {
      "cell_type": "code",
      "metadata": {
        "colab": {
          "base_uri": "https://localhost:8080/"
        },
        "id": "-Zs_WZB_hLq4",
        "outputId": "7968211d-c949-419f-a6ce-bdefcd984ffb"
      },
      "source": [
        "nsmc = sent_analyzer.build_corpus(\"nsmc\")"
      ],
      "execution_count": 11,
      "outputs": [
        {
          "output_type": "stream",
          "text": [
            "\n",
            "    Korpora 는 다른 분들이 연구 목적으로 공유해주신 말뭉치들을\n",
            "    손쉽게 다운로드, 사용할 수 있는 기능만을 제공합니다.\n",
            "\n",
            "    말뭉치들을 공유해 주신 분들에게 감사드리며, 각 말뭉치 별 설명과 라이센스를 공유 드립니다.\n",
            "    해당 말뭉치에 대해 자세히 알고 싶으신 분은 아래의 description 을 참고,\n",
            "    해당 말뭉치를 연구/상용의 목적으로 이용하실 때에는 아래의 라이센스를 참고해 주시기 바랍니다.\n",
            "\n",
            "    # Description\n",
            "    Author : e9t@github\n",
            "    Repository : https://github.com/e9t/nsmc\n",
            "    References : www.lucypark.kr/docs/2015-pyconkr/#39\n",
            "\n",
            "    Naver sentiment movie corpus v1.0\n",
            "    This is a movie review dataset in the Korean language.\n",
            "    Reviews were scraped from Naver Movies.\n",
            "\n",
            "    The dataset construction is based on the method noted in\n",
            "    [Large movie review dataset][^1] from Maas et al., 2011.\n",
            "\n",
            "    [^1]: http://ai.stanford.edu/~amaas/data/sentiment/\n",
            "\n",
            "    # License\n",
            "    CC0 1.0 Universal (CC0 1.0) Public Domain Dedication\n",
            "    Details in https://creativecommons.org/publicdomain/zero/1.0/\n",
            "\n",
            "[Korpora] Corpus `nsmc` is already installed at /root/Korpora/nsmc/ratings_train.txt\n",
            "[Korpora] Corpus `nsmc` is already installed at /root/Korpora/nsmc/ratings_test.txt\n"
          ],
          "name": "stdout"
        }
      ]
    },
    {
      "cell_type": "code",
      "metadata": {
        "ExecuteTime": {
          "end_time": "2021-01-28T06:06:23.367560Z",
          "start_time": "2021-01-28T06:06:23.277997Z"
        },
        "colab": {
          "base_uri": "https://localhost:8080/",
          "height": 606
        },
        "id": "Ybfx8JUyhLq4",
        "outputId": "bf7617c1-26ef-49f3-908a-b01a2ba247f7"
      },
      "source": [
        "import pandas as pd\n",
        "texts = nsmc.get_all_texts()\n",
        "labels = nsmc.get_all_labels()\n",
        "d= {\"텍스트\":texts,\"감정\":[\"긍정\" if l==1 else \"부정\" for l in labels], \"라벨\":labels}\n",
        "df = pd.DataFrame(data=d)\n",
        "df"
      ],
      "execution_count": 12,
      "outputs": [
        {
          "output_type": "execute_result",
          "data": {
            "text/html": [
              "<div>\n",
              "<style scoped>\n",
              "    .dataframe tbody tr th:only-of-type {\n",
              "        vertical-align: middle;\n",
              "    }\n",
              "\n",
              "    .dataframe tbody tr th {\n",
              "        vertical-align: top;\n",
              "    }\n",
              "\n",
              "    .dataframe thead th {\n",
              "        text-align: right;\n",
              "    }\n",
              "</style>\n",
              "<table border=\"1\" class=\"dataframe\">\n",
              "  <thead>\n",
              "    <tr style=\"text-align: right;\">\n",
              "      <th></th>\n",
              "      <th>텍스트</th>\n",
              "      <th>감정</th>\n",
              "      <th>라벨</th>\n",
              "    </tr>\n",
              "  </thead>\n",
              "  <tbody>\n",
              "    <tr>\n",
              "      <th>0</th>\n",
              "      <td>아 더빙.. 진짜 짜증나네요 목소리</td>\n",
              "      <td>부정</td>\n",
              "      <td>0</td>\n",
              "    </tr>\n",
              "    <tr>\n",
              "      <th>1</th>\n",
              "      <td>흠...포스터보고 초딩영화줄....오버연기조차 가볍지 않구나</td>\n",
              "      <td>긍정</td>\n",
              "      <td>1</td>\n",
              "    </tr>\n",
              "    <tr>\n",
              "      <th>2</th>\n",
              "      <td>너무재밓었다그래서보는것을추천한다</td>\n",
              "      <td>부정</td>\n",
              "      <td>0</td>\n",
              "    </tr>\n",
              "    <tr>\n",
              "      <th>3</th>\n",
              "      <td>교도소 이야기구먼 ..솔직히 재미는 없다..평점 조정</td>\n",
              "      <td>부정</td>\n",
              "      <td>0</td>\n",
              "    </tr>\n",
              "    <tr>\n",
              "      <th>4</th>\n",
              "      <td>사이몬페그의 익살스런 연기가 돋보였던 영화!스파이더맨에서 늙어보이기만 했던 커스틴 ...</td>\n",
              "      <td>긍정</td>\n",
              "      <td>1</td>\n",
              "    </tr>\n",
              "    <tr>\n",
              "      <th>...</th>\n",
              "      <td>...</td>\n",
              "      <td>...</td>\n",
              "      <td>...</td>\n",
              "    </tr>\n",
              "    <tr>\n",
              "      <th>199995</th>\n",
              "      <td>오랜만에 평점 로긴했네ㅋㅋ 킹왕짱 쌈뽕한 영화를 만났습니다 강렬하게 육쾌함</td>\n",
              "      <td>긍정</td>\n",
              "      <td>1</td>\n",
              "    </tr>\n",
              "    <tr>\n",
              "      <th>199996</th>\n",
              "      <td>의지 박약들이나 하는거다 탈영은 일단 주인공 김대희 닮았고 이등병 찐따 OOOO</td>\n",
              "      <td>부정</td>\n",
              "      <td>0</td>\n",
              "    </tr>\n",
              "    <tr>\n",
              "      <th>199997</th>\n",
              "      <td>그림도 좋고 완성도도 높았지만... 보는 내내 불안하게 만든다</td>\n",
              "      <td>부정</td>\n",
              "      <td>0</td>\n",
              "    </tr>\n",
              "    <tr>\n",
              "      <th>199998</th>\n",
              "      <td>절대 봐서는 안 될 영화.. 재미도 없고 기분만 잡치고.. 한 세트장에서 다 해먹네</td>\n",
              "      <td>부정</td>\n",
              "      <td>0</td>\n",
              "    </tr>\n",
              "    <tr>\n",
              "      <th>199999</th>\n",
              "      <td>마무리는 또 왜이래</td>\n",
              "      <td>부정</td>\n",
              "      <td>0</td>\n",
              "    </tr>\n",
              "  </tbody>\n",
              "</table>\n",
              "<p>200000 rows × 3 columns</p>\n",
              "</div>"
            ],
            "text/plain": [
              "                                                      텍스트  감정  라벨\n",
              "0                                     아 더빙.. 진짜 짜증나네요 목소리  부정   0\n",
              "1                       흠...포스터보고 초딩영화줄....오버연기조차 가볍지 않구나  긍정   1\n",
              "2                                       너무재밓었다그래서보는것을추천한다  부정   0\n",
              "3                           교도소 이야기구먼 ..솔직히 재미는 없다..평점 조정  부정   0\n",
              "4       사이몬페그의 익살스런 연기가 돋보였던 영화!스파이더맨에서 늙어보이기만 했던 커스틴 ...  긍정   1\n",
              "...                                                   ...  ..  ..\n",
              "199995          오랜만에 평점 로긴했네ㅋㅋ 킹왕짱 쌈뽕한 영화를 만났습니다 강렬하게 육쾌함  긍정   1\n",
              "199996       의지 박약들이나 하는거다 탈영은 일단 주인공 김대희 닮았고 이등병 찐따 OOOO  부정   0\n",
              "199997                 그림도 좋고 완성도도 높았지만... 보는 내내 불안하게 만든다  부정   0\n",
              "199998     절대 봐서는 안 될 영화.. 재미도 없고 기분만 잡치고.. 한 세트장에서 다 해먹네  부정   0\n",
              "199999                                         마무리는 또 왜이래  부정   0\n",
              "\n",
              "[200000 rows x 3 columns]"
            ]
          },
          "metadata": {
            "tags": []
          },
          "execution_count": 12
        }
      ]
    },
    {
      "cell_type": "code",
      "metadata": {
        "colab": {
          "base_uri": "https://localhost:8080/",
          "height": 103,
          "referenced_widgets": [
            "fe9889716d7b498b889241784b002d16",
            "459c4c47851b4524ae6b4aa39f73dc49",
            "89c6c0057ab1454c946dd3b0d81fea2d",
            "137b5239add441febe778285f1300c83",
            "964b0f41e5634941ab1504363ce71cca",
            "6d25049e65b54b4aa3d0449be55b84ae",
            "a0b88e530211444f9f8f75830e31faf6",
            "4ecf7d2d6c4c43ddbaf7a974878556ca",
            "6a048371e72a4312837a1987bea90d6e",
            "2d0c32da1754494b92d52b6b0e67ebc6",
            "7fcecaf2a62748f2a4be3d6a483a9563"
          ]
        },
        "id": "5Lfm-vnnhLq5",
        "outputId": "18957281-c97e-44f0-e3ff-0c3b61646a34"
      },
      "source": [
        "sent_analyzer.encode(texts[:1000], labels[:1000])"
      ],
      "execution_count": 13,
      "outputs": [
        {
          "output_type": "display_data",
          "data": {
            "application/vnd.jupyter.widget-view+json": {
              "model_id": "fe9889716d7b498b889241784b002d16",
              "version_minor": 0,
              "version_major": 2
            },
            "text/plain": [
              "  0%|          | 0/1000 [00:00<?, ?it/s]"
            ]
          },
          "metadata": {
            "tags": []
          }
        },
        {
          "output_type": "stream",
          "text": [
            "/usr/local/lib/python3.6/dist-packages/transformers/tokenization_utils_base.py:2143: FutureWarning: The `pad_to_max_length` argument is deprecated and will be removed in a future version, use `padding=True` or `padding='longest'` to pad to the longest sequence in the batch, or use `padding='max_length'` to pad to a max length. In this case, you can give a specific length with `max_length` (e.g. `max_length=45`) or leave max_length to None to pad to the maximal input size of the model (e.g. 512 for Bert).\n",
            "  FutureWarning,\n"
          ],
          "name": "stderr"
        }
      ]
    },
    {
      "cell_type": "code",
      "metadata": {
        "tags": [
          "outputPrepend"
        ],
        "colab": {
          "base_uri": "https://localhost:8080/",
          "height": 54,
          "referenced_widgets": [
            "85963a47b7a74c52881553387bcff619",
            "c3936fc1c11a41c491e95c01d33f3ca0",
            "6600d319130e4c53928c0c6ff8fd515f",
            "3d4705edae3d4d728eec177aca16e0a1",
            "c5871089a3294ebe925cf97d77fc755b",
            "114f9686f28c468a93b4a3a817eb015d",
            "d8c638c232064565976cea2c5f99552f",
            "bf3a02656d4a48d2810dbe628262383f",
            "bf42c5fe6ed84879b28ac5a002990357",
            "f38071b4594746538b6efb5ade1c6e1a",
            "bae1a15bcbc248c6933914a377439312"
          ]
        },
        "id": "4SpcEaxahLq5",
        "outputId": "3b9913c1-366d-4e4b-ac03-8bd2fc4b6a95"
      },
      "source": [
        "sent_analyzer.prepare()\n",
        "sent_analyzer.train()"
      ],
      "execution_count": 14,
      "outputs": [
        {
          "output_type": "display_data",
          "data": {
            "application/vnd.jupyter.widget-view+json": {
              "model_id": "85963a47b7a74c52881553387bcff619",
              "version_minor": 0,
              "version_major": 2
            },
            "text/plain": [
              "0.00%             | 00:00>?"
            ]
          },
          "metadata": {
            "tags": []
          }
        },
        {
          "output_type": "stream",
          "text": [
            "epoch: 1/1 | step: 9/9                            mean training loss: 0.70 / average accuracies:0.51\n"
          ],
          "name": "stdout"
        }
      ]
    },
    {
      "cell_type": "code",
      "metadata": {
        "id": "xb3cHb0c1At7",
        "colab": {
          "base_uri": "https://localhost:8080/"
        },
        "outputId": "dac61005-51c2-4e3e-8647-3aa66d2fefa6"
      },
      "source": [
        "sent_analyzer.validate()"
      ],
      "execution_count": 15,
      "outputs": [
        {
          "output_type": "stream",
          "text": [
            "  Validation Loss: 0.69\n",
            "  Validation Accuracy: 0.55\n"
          ],
          "name": "stdout"
        }
      ]
    },
    {
      "cell_type": "code",
      "metadata": {
        "id": "44yr19kLhLq6",
        "colab": {
          "base_uri": "https://localhost:8080/",
          "height": 121,
          "referenced_widgets": [
            "ab614be9642a4959a743f5a85194f24d",
            "f49e747cb22a4913806ef77ebbacabb1",
            "15734f584e97462e8cb1e3d9002ed208",
            "5079dd0dfe74425894e1193c21d5a9fb",
            "643a143317c546a8a7ef5731dde8bda6",
            "ac032b73b48e4d55b18da8e6db305c7f",
            "80326b6cc507423b9930a95120d8f026",
            "da93c592ec8540068b721cecd203783a",
            "ad6d7bea4a8f4f869d2c8f0bea856ec8",
            "1cc2d4299a49429b81b2ec419606d712",
            "dda2cae8b83c49408ec359299b1e713a"
          ]
        },
        "outputId": "1ba04d81-56c4-4259-8eb9-3dfdd05e9392"
      },
      "source": [
        "sent_analyzer.predict(\"재밌다고 할 수 있네\")"
      ],
      "execution_count": 16,
      "outputs": [
        {
          "output_type": "display_data",
          "data": {
            "application/vnd.jupyter.widget-view+json": {
              "model_id": "ab614be9642a4959a743f5a85194f24d",
              "version_minor": 0,
              "version_major": 2
            },
            "text/plain": [
              "  0%|          | 0/1 [00:00<?, ?it/s]"
            ]
          },
          "metadata": {
            "tags": []
          }
        },
        {
          "output_type": "stream",
          "text": [
            "/usr/local/lib/python3.6/dist-packages/transformers/tokenization_utils_base.py:2143: FutureWarning: The `pad_to_max_length` argument is deprecated and will be removed in a future version, use `padding=True` or `padding='longest'` to pad to the longest sequence in the batch, or use `padding='max_length'` to pad to a max length. In this case, you can give a specific length with `max_length` (e.g. `max_length=45`) or leave max_length to None to pad to the maximal input size of the model (e.g. 512 for Bert).\n",
            "  FutureWarning,\n"
          ],
          "name": "stderr"
        },
        {
          "output_type": "execute_result",
          "data": {
            "application/vnd.google.colaboratory.intrinsic+json": {
              "type": "string"
            },
            "text/plain": [
              "'긍정'"
            ]
          },
          "metadata": {
            "tags": []
          },
          "execution_count": 16
        }
      ]
    },
    {
      "cell_type": "markdown",
      "metadata": {
        "id": "W39oWVDihLq6"
      },
      "source": [
        "## BERT Downstream Tasks"
      ]
    },
    {
      "cell_type": "code",
      "metadata": {
        "colab": {
          "base_uri": "https://localhost:8080/"
        },
        "id": "nnbW0KCwhLq6",
        "outputId": "a7b9b7d0-635b-466c-8774-702b30e45707"
      },
      "source": [
        "from winterschool_models import Winterschool_Models\n",
        "models = Winterschool_Models()"
      ],
      "execution_count": 17,
      "outputs": [
        {
          "output_type": "stream",
          "text": [
            "Some weights of the model checkpoint at bert-base-multilingual-cased were not used when initializing BertForMaskedLM: ['cls.seq_relationship.weight', 'cls.seq_relationship.bias']\n",
            "- This IS expected if you are initializing BertForMaskedLM from the checkpoint of a model trained on another task or with another architecture (e.g. initializing a BertForSequenceClassification model from a BertForPreTraining model).\n",
            "- This IS NOT expected if you are initializing BertForMaskedLM from the checkpoint of a model that you expect to be exactly identical (initializing a BertForSequenceClassification model from a BertForSequenceClassification model).\n"
          ],
          "name": "stderr"
        },
        {
          "output_type": "stream",
          "text": [
            "====================================\n",
            "[BERT] Google Multilingual BERT 로드 완료\n",
            "====================================\n"
          ],
          "name": "stdout"
        },
        {
          "output_type": "stream",
          "text": [
            "Some weights of the model checkpoint at snunlp/KR-Medium were not used when initializing BertForMaskedLM: ['cls.seq_relationship.weight', 'cls.seq_relationship.bias']\n",
            "- This IS expected if you are initializing BertForMaskedLM from the checkpoint of a model trained on another task or with another architecture (e.g. initializing a BertForSequenceClassification model from a BertForPreTraining model).\n",
            "- This IS NOT expected if you are initializing BertForMaskedLM from the checkpoint of a model that you expect to be exactly identical (initializing a BertForSequenceClassification model from a BertForSequenceClassification model).\n"
          ],
          "name": "stderr"
        },
        {
          "output_type": "stream",
          "text": [
            "====================================\n",
            "[BERT] KR-BERT 로드 완료\n",
            "====================================\n"
          ],
          "name": "stdout"
        },
        {
          "output_type": "stream",
          "text": [
            "Some weights of the model checkpoint at kykim/bert-kor-base were not used when initializing BertForMaskedLM: ['cls.seq_relationship.weight', 'cls.seq_relationship.bias']\n",
            "- This IS expected if you are initializing BertForMaskedLM from the checkpoint of a model trained on another task or with another architecture (e.g. initializing a BertForSequenceClassification model from a BertForPreTraining model).\n",
            "- This IS NOT expected if you are initializing BertForMaskedLM from the checkpoint of a model that you expect to be exactly identical (initializing a BertForSequenceClassification model from a BertForSequenceClassification model).\n"
          ],
          "name": "stderr"
        },
        {
          "output_type": "stream",
          "text": [
            "====================================\n",
            "[BERT] BERT-kor-base 로드 완료\n",
            "====================================\n"
          ],
          "name": "stdout"
        },
        {
          "output_type": "stream",
          "text": [
            "Some weights of the model checkpoint at kykim/albert-kor-base were not used when initializing AlbertForMaskedLM: ['sop_classifier.classifier.weight', 'sop_classifier.classifier.bias']\n",
            "- This IS expected if you are initializing AlbertForMaskedLM from the checkpoint of a model trained on another task or with another architecture (e.g. initializing a BertForSequenceClassification model from a BertForPreTraining model).\n",
            "- This IS NOT expected if you are initializing AlbertForMaskedLM from the checkpoint of a model that you expect to be exactly identical (initializing a BertForSequenceClassification model from a BertForSequenceClassification model).\n"
          ],
          "name": "stderr"
        },
        {
          "output_type": "stream",
          "text": [
            "====================================\n",
            "[BERT] ALBERT-kor-base 로드 완료\n",
            "====================================\n"
          ],
          "name": "stdout"
        },
        {
          "output_type": "stream",
          "text": [
            "Some weights of XLMRobertaForMaskedLM were not initialized from the model checkpoint at xlm-roberta-base and are newly initialized: ['lm_head.decoder.bias']\n",
            "You should probably TRAIN this model on a down-stream task to be able to use it for predictions and inference.\n"
          ],
          "name": "stderr"
        },
        {
          "output_type": "stream",
          "text": [
            "====================================\n",
            "[BERT] XLM-Roberta-kor 로드 완료\n",
            "====================================\n"
          ],
          "name": "stdout"
        },
        {
          "output_type": "stream",
          "text": [
            "The following encoder weights were not tied to the decoder ['bert/pooler']\n",
            "The following encoder weights were not tied to the decoder ['bert/pooler']\n"
          ],
          "name": "stderr"
        },
        {
          "output_type": "stream",
          "text": [
            "====================================\n",
            "[Seq2seq + BERT] bertshared-kor-base 로드 완료\n",
            "====================================\n",
            "====================================\n",
            "[GPT3] gpt3-small-based-on-gpt2 로드 완료\n",
            "====================================\n",
            "====================================\n",
            "[ELECTRA] electra-kor-base 로드 완료\n",
            "====================================\n",
            "====================================\n",
            "[ELECTRA] koelectra-base-v3-finetuned-korquad 로드 완료\n",
            "====================================\n"
          ],
          "name": "stdout"
        }
      ]
    },
    {
      "cell_type": "code",
      "metadata": {
        "colab": {
          "base_uri": "https://localhost:8080/"
        },
        "id": "sJWMWPq3hLq6",
        "outputId": "863efc71-1141-40c3-c3bb-bbf25082ae13"
      },
      "source": [
        "models.lists.keys()"
      ],
      "execution_count": 18,
      "outputs": [
        {
          "output_type": "execute_result",
          "data": {
            "text/plain": [
              "dict_keys(['M-BERT', 'KR-Medium', 'bert-kor-base', 'albert-kor-base', 'xlm-roberta-base', 'bertshared-kor-base', 'gpt3-kor-small_based_on_gpt2', 'electra-kor-base', 'electra-kor-QA'])"
            ]
          },
          "metadata": {
            "tags": []
          },
          "execution_count": 18
        }
      ]
    },
    {
      "cell_type": "markdown",
      "metadata": {
        "id": "wNs0cz7DhLq7"
      },
      "source": [
        "## Summarization"
      ]
    },
    {
      "cell_type": "code",
      "metadata": {
        "colab": {
          "base_uri": "https://localhost:8080/"
        },
        "id": "EsH7DxU5hLq7",
        "outputId": "99ba33ab-d0e7-4b6c-8e22-f631b55771d7"
      },
      "source": [
        "context = \"\"\"\n",
        "한산도 대첩(閑山島大捷) 혹은 견내량대첩(見乃梁大捷)은 1592년 8월 14일(선조 25년 음력 7월 8일) 통영 한산도 앞바다에서 조선 수군이 왜군을 크게 무찌른 해전으로, 이 전투에서 육전에서 사용하던 포위 섬멸 전술 형태인 학익진을 처음으로 해전에서 펼쳤다. \n",
        "\n",
        "조선 선조 25년(1592년) 5월 29일(양력 7월 8일)에 2차 출동한 조선 수군의 전라좌수사 이순신의 함대는 6월 10일(양력 7월 18일)까지 사천, 당포, 당항포, 율포 등에서 일방적인 승리를 거두었으나, 육지에서는 패전을 거듭하고 있었다. 일본 수군은 일본 육군에 호응하여 가덕도와 거제도 부근에서 10여 척에서 30여 척까지 함대를 이루어 서진하고 있었다.\n",
        "\"\"\"\n",
        "\n",
        "models.summarize(context)"
      ],
      "execution_count": 19,
      "outputs": [
        {
          "output_type": "stream",
          "text": [
            "1592년 8월 14일 통영 한산 한산도 앞바다에서 조선 수군이 왜군을 크게 무찌른 해전 학익진을 처음으로 해전에서 펼쳤다. 왜왜군은 이 전투에서 육전에서 사용하던 포위 섬멸 전술 형태인 학익을 처음으로\n"
          ],
          "name": "stdout"
        }
      ]
    },
    {
      "cell_type": "markdown",
      "metadata": {
        "id": "3S2vNiOFhLq7"
      },
      "source": [
        "## Mask prediction"
      ]
    },
    {
      "cell_type": "code",
      "metadata": {
        "colab": {
          "base_uri": "https://localhost:8080/"
        },
        "id": "T6aA8ih_hLq8",
        "outputId": "98e8bd63-9a58-4404-e0cc-b86df19000be"
      },
      "source": [
        "mask_text=\"\"\"\n",
        "너 때문에 되는 일이 하나도 <mask>\n",
        "\"\"\"\n",
        "models.mask_predict(mask_text)"
      ],
      "execution_count": 20,
      "outputs": [
        {
          "output_type": "stream",
          "text": [
            "kykim/bert-kor-base: 없어요 / 없다 / 없어\n",
            "kykim/albert-kor-base: 없다 / 없어요 / 없어\n",
            "bert_multilingual: 있다 / 한다 / 요\n",
            "xlm: 없다 / 없습니다 / 없었다\n"
          ],
          "name": "stdout"
        }
      ]
    },
    {
      "cell_type": "markdown",
      "metadata": {
        "id": "4p2KGsyUhLq8"
      },
      "source": [
        "## Text Generation"
      ]
    },
    {
      "cell_type": "code",
      "metadata": {
        "colab": {
          "base_uri": "https://localhost:8080/"
        },
        "id": "9vaz6pqJhLq8",
        "outputId": "fabfe04a-feb0-4bdc-9b88-e258ab251ae3"
      },
      "source": [
        "word=\"학교는\"\n",
        "models.generate_text(word, 3)"
      ],
      "execution_count": 21,
      "outputs": [
        {
          "output_type": "stream",
          "text": [
            "Setting `pad_token_id` to `eos_token_id`:3 for open-end generation.\n"
          ],
          "name": "stderr"
        },
        {
          "output_type": "stream",
          "text": [
            "0: 학교는 ( 3 ) 교육개혁이뤄진 사례는? : ( 1 ) 교육의 본질은 학교육이 아니라 교육인 것이다. 교육적 기능은 교육이라는 것이 교육의 목표이다. 교육의 목적은 교육의 질 향상을 위한 교육적인 기능만을 수행하는 것이 아니다\n",
            "1: 학교는 이 책은 저자가 직접 출판한 것이 아니다. 저자는 이 책의 번역을 도맡아 했다. 저자도 이 책을 읽고서 저자의견을 반영했다고 했다\n",
            "2: 학교는 우리말의 우수성은 이미 널리 알려져 있다. 우리말은 우수하다는 말은 곧 우리말을 잘 안다는 것이다. 이 우수함은 우리글의 고유성이다. 우수함을 널리 알리고 널리 널리 알려야겠다.\n"
          ],
          "name": "stdout"
        }
      ]
    },
    {
      "cell_type": "markdown",
      "metadata": {
        "id": "j3_9A-A-hLq9"
      },
      "source": [
        "## Question-Answering"
      ]
    },
    {
      "cell_type": "code",
      "metadata": {
        "id": "p7Eeyt7ohLq9"
      },
      "source": [
        "context_qa = \"\"\"\n",
        "애플 주식회사(영어: Apple Inc.)는 미국 캘리포니아의 아이폰, 아이맥, 맥북, 애플 TV, 맥 OS, iOS 등을 제조하는 기업이다.\n",
        "\n",
        "애플의 이전 명칭은 애플 컴퓨터 주식회사(영어: Apple Computer, Inc.)였는데, 스티브 잡스가 아이팟, 아이폰을 발표하면서 간단하게 애플이라고 기업 이름을 바꾸었다.\n",
        "\n",
        "본사는 애플 캠퍼스와 애플 파크에 두고 있으며, 미국 캘리포니아주 쿠퍼티노에 소재하고 있다. 최고경영자는 팀 쿡이다.\n",
        "\n",
        "2011년 8월 9일 미국 증시에서 장 중 엑손모빌을 누르고 시가총액 1위가 되었고, 8월 10일에는 종가에서도 1위가 되었다. 2015년 2월 11일 세계 최초로 주식 종가 시가총액이 7000억 달러를 넘은 기업이 되었다. 애플의 기업가치는 이제 2조 달러(2020년 8월 기준)가 되었다. \n",
        "\"\"\""
      ],
      "execution_count": 22,
      "outputs": []
    },
    {
      "cell_type": "code",
      "metadata": {
        "colab": {
          "base_uri": "https://localhost:8080/",
          "height": 35
        },
        "id": "w6mP_HYkhLq9",
        "outputId": "9d8e7f8d-f64b-45c2-aa79-cd185c90c741"
      },
      "source": [
        "question=\"애플은 무엇을 만드는가?\"\n",
        "models.answer_question(question, context_qa)"
      ],
      "execution_count": 23,
      "outputs": [
        {
          "output_type": "execute_result",
          "data": {
            "application/vnd.google.colaboratory.intrinsic+json": {
              "type": "string"
            },
            "text/plain": [
              "'아이폰, 아이맥, 맥북, 애플 TV, 맥 OS, iOS'"
            ]
          },
          "metadata": {
            "tags": []
          },
          "execution_count": 23
        }
      ]
    }
  ]
}